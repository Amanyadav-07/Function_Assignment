{
  "nbformat": 4,
  "nbformat_minor": 0,
  "metadata": {
    "colab": {
      "provenance": []
    },
    "kernelspec": {
      "name": "python3",
      "display_name": "Python 3"
    },
    "language_info": {
      "name": "python"
    }
  },
  "cells": [
    {
      "cell_type": "markdown",
      "source": [
        "##1. Write a Python function that takes a list of numbers as input and the sum of all even numbers in the list."
      ],
      "metadata": {
        "id": "_iOcwD6wyHmz"
      }
    },
    {
      "cell_type": "code",
      "execution_count": null,
      "metadata": {
        "colab": {
          "base_uri": "https://localhost:8080/"
        },
        "id": "Q3bPpwjWyDcI",
        "outputId": "81e1cb82-a508-470d-f91b-f7ffd545eda8"
      },
      "outputs": [
        {
          "output_type": "execute_result",
          "data": {
            "text/plain": [
              "30"
            ]
          },
          "metadata": {},
          "execution_count": 2
        }
      ],
      "source": [
        "# function takes a list of numbers as input and the sum of all even numbers\n",
        "# in the list\n",
        "def even_sum(numbers):\n",
        "    even_sum = 0\n",
        "    for num in numbers:\n",
        "        if num % 2 == 0:\n",
        "            even_sum += num\n",
        "    return even_sum\n",
        "\n",
        "even_sum([1,2,3,4,5,6,7,8,9,10])"
      ]
    },
    {
      "cell_type": "markdown",
      "source": [
        "##2. Create a Python function that accepts a string and returns the reverse of that string.\n"
      ],
      "metadata": {
        "id": "DJE8ebbBzFE1"
      }
    },
    {
      "cell_type": "code",
      "source": [
        "# function that accepts a string and returns the reverse of that string.\n",
        "def reverse_string(string):\n",
        "    return string[::-1]\n",
        "\n",
        "reverse_string(\"Hello, Aman\")"
      ],
      "metadata": {
        "colab": {
          "base_uri": "https://localhost:8080/",
          "height": 36
        },
        "id": "SWczqAsAzlC4",
        "outputId": "b0c2057a-ebd5-48f3-f7c7-9c6dab189a47"
      },
      "execution_count": null,
      "outputs": [
        {
          "output_type": "execute_result",
          "data": {
            "text/plain": [
              "'namA ,olleH'"
            ],
            "application/vnd.google.colaboratory.intrinsic+json": {
              "type": "string"
            }
          },
          "metadata": {},
          "execution_count": 3
        }
      ]
    },
    {
      "cell_type": "markdown",
      "source": [
        "##3. Implement a Python function that takes a list of integers and returns a new list containing the squares of each number."
      ],
      "metadata": {
        "id": "c9Bqlu1kzwF6"
      }
    },
    {
      "cell_type": "code",
      "source": [
        "#function that takes a list of integers and returns a new list containing\n",
        "#the squares of each number.\n",
        "def square_numbers(numbers):\n",
        "    # Initialize an empty list to store the squares\n",
        "    squares = []\n",
        "    for num in numbers:\n",
        "        squares.append(num**2)\n",
        "    return squares\n",
        "\n",
        "square_numbers([1,2,3,4,5])"
      ],
      "metadata": {
        "id": "OKkpgV8u3dPp",
        "colab": {
          "base_uri": "https://localhost:8080/"
        },
        "outputId": "fbf6b7b7-c7ab-44e7-c38a-109f6ce98f2c"
      },
      "execution_count": 4,
      "outputs": [
        {
          "output_type": "execute_result",
          "data": {
            "text/plain": [
              "[1, 4, 9, 16, 25]"
            ]
          },
          "metadata": {},
          "execution_count": 4
        }
      ]
    },
    {
      "cell_type": "markdown",
      "source": [
        "##4. Write a Python function that checks if a given number is prime of not from 1 to 200.\n"
      ],
      "metadata": {
        "id": "rFYaQyoI369G"
      }
    },
    {
      "cell_type": "code",
      "source": [
        "def is_prime(number):\n",
        "    # Check if the number is less than 2\n",
        "    if number < 2:\n",
        "        return False\n",
        "    for i in range(2, number):\n",
        "        # Check if the number is divisible by any number between 2 and the number itself\n",
        "        if number % i == 0:\n",
        "            return False\n",
        "    return True\n",
        "\n",
        "is_prime(112)"
      ],
      "metadata": {
        "id": "8AO7Ar014How",
        "colab": {
          "base_uri": "https://localhost:8080/"
        },
        "outputId": "9503f94e-8cfb-491c-cbd4-4725ae6b6ba5"
      },
      "execution_count": 13,
      "outputs": [
        {
          "output_type": "execute_result",
          "data": {
            "text/plain": [
              "True"
            ]
          },
          "metadata": {},
          "execution_count": 13
        }
      ]
    },
    {
      "cell_type": "markdown",
      "source": [
        "##5. Create an iterator class in Python that generates the Fibonacci sequence up to a specified number of terms."
      ],
      "metadata": {
        "id": "OPhfyrEk-Xnv"
      }
    },
    {
      "cell_type": "code",
      "source": [
        "def fib(n):\n",
        "    a, b = 0, 1\n",
        "    for i in range(n):\n",
        "        yield a\n",
        "        a, b = b, a + b\n",
        "\n",
        "for num in fib(10):\n",
        "    print(num)"
      ],
      "metadata": {
        "colab": {
          "base_uri": "https://localhost:8080/"
        },
        "id": "zitXZPrb-XGc",
        "outputId": "6fcf15c4-d139-443d-dafb-658ed1f564b7"
      },
      "execution_count": 14,
      "outputs": [
        {
          "output_type": "stream",
          "name": "stdout",
          "text": [
            "0\n",
            "1\n",
            "1\n",
            "2\n",
            "3\n",
            "5\n",
            "8\n",
            "13\n",
            "21\n",
            "34\n"
          ]
        }
      ]
    },
    {
      "cell_type": "markdown",
      "source": [
        "##6. Write a generator function in Python that yeilds the power of 2 up to a given exponent."
      ],
      "metadata": {
        "id": "_2Mcqh4o-2CL"
      }
    },
    {
      "cell_type": "code",
      "source": [
        "def power_of_two(exponent):\n",
        "    for i in range(exponent + 1):\n",
        "        yield 2**i\n",
        "\n",
        "for num in power_of_two(5):\n",
        "    print(num)"
      ],
      "metadata": {
        "colab": {
          "base_uri": "https://localhost:8080/"
        },
        "id": "t-NXVrhUBkzu",
        "outputId": "777e9337-788d-41f1-efa9-1f6ba75a0baa"
      },
      "execution_count": 19,
      "outputs": [
        {
          "output_type": "stream",
          "name": "stdout",
          "text": [
            "1\n",
            "2\n",
            "4\n",
            "8\n",
            "16\n",
            "32\n"
          ]
        }
      ]
    },
    {
      "cell_type": "code",
      "source": [],
      "metadata": {
        "id": "XnsENRMICCk4"
      },
      "execution_count": null,
      "outputs": []
    },
    {
      "cell_type": "markdown",
      "source": [
        "##7. Implement a generator function that reads a file line by line and yeilds each line as a string."
      ],
      "metadata": {
        "id": "ky-My3eICcLQ"
      }
    },
    {
      "cell_type": "code",
      "source": [
        "# In google colab, the file will not be readable bcz this is not go inside the\n",
        "#function and doesn't open or read the file\n",
        "#but I think the Code is Almost correct from my side\n",
        "\n",
        "def read_file(filename):\n",
        "    with open(filename, 'r') as file:\n",
        "        # Read each line from the file\n",
        "        for line in file:\n",
        "            # Strip the newline character from the end of each line\n",
        "            yield line.strip()\n",
        "\n",
        "for line in read_file('test.txt'):\n",
        "    # Print each line\n",
        "    print(line)\n"
      ],
      "metadata": {
        "colab": {
          "base_uri": "https://localhost:8080/",
          "height": 315
        },
        "collapsed": true,
        "id": "CDY9dvnNCoQ1",
        "outputId": "46505290-3822-4f8f-e6e4-806f6d588d5d"
      },
      "execution_count": 21,
      "outputs": [
        {
          "output_type": "error",
          "ename": "FileNotFoundError",
          "evalue": "[Errno 2] No such file or directory: 'test.txt'",
          "traceback": [
            "\u001b[0;31m---------------------------------------------------------------------------\u001b[0m",
            "\u001b[0;31mFileNotFoundError\u001b[0m                         Traceback (most recent call last)",
            "\u001b[0;32m<ipython-input-21-7b188546ea5a>\u001b[0m in \u001b[0;36m<cell line: 6>\u001b[0;34m()\u001b[0m\n\u001b[1;32m      4\u001b[0m             \u001b[0;32myield\u001b[0m \u001b[0mline\u001b[0m\u001b[0;34m.\u001b[0m\u001b[0mstrip\u001b[0m\u001b[0;34m(\u001b[0m\u001b[0;34m)\u001b[0m\u001b[0;34m\u001b[0m\u001b[0;34m\u001b[0m\u001b[0m\n\u001b[1;32m      5\u001b[0m \u001b[0;34m\u001b[0m\u001b[0m\n\u001b[0;32m----> 6\u001b[0;31m \u001b[0;32mfor\u001b[0m \u001b[0mline\u001b[0m \u001b[0;32min\u001b[0m \u001b[0mread_file\u001b[0m\u001b[0;34m(\u001b[0m\u001b[0;34m'test.txt'\u001b[0m\u001b[0;34m)\u001b[0m\u001b[0;34m:\u001b[0m\u001b[0;34m\u001b[0m\u001b[0;34m\u001b[0m\u001b[0m\n\u001b[0m\u001b[1;32m      7\u001b[0m     \u001b[0mprint\u001b[0m\u001b[0;34m(\u001b[0m\u001b[0mline\u001b[0m\u001b[0;34m)\u001b[0m\u001b[0;34m\u001b[0m\u001b[0;34m\u001b[0m\u001b[0m\n",
            "\u001b[0;32m<ipython-input-21-7b188546ea5a>\u001b[0m in \u001b[0;36mread_file\u001b[0;34m(filename)\u001b[0m\n\u001b[1;32m      1\u001b[0m \u001b[0;32mdef\u001b[0m \u001b[0mread_file\u001b[0m\u001b[0;34m(\u001b[0m\u001b[0mfilename\u001b[0m\u001b[0;34m)\u001b[0m\u001b[0;34m:\u001b[0m\u001b[0;34m\u001b[0m\u001b[0;34m\u001b[0m\u001b[0m\n\u001b[0;32m----> 2\u001b[0;31m     \u001b[0;32mwith\u001b[0m \u001b[0mopen\u001b[0m\u001b[0;34m(\u001b[0m\u001b[0mfilename\u001b[0m\u001b[0;34m,\u001b[0m \u001b[0;34m'r'\u001b[0m\u001b[0;34m)\u001b[0m \u001b[0;32mas\u001b[0m \u001b[0mfile\u001b[0m\u001b[0;34m:\u001b[0m\u001b[0;34m\u001b[0m\u001b[0;34m\u001b[0m\u001b[0m\n\u001b[0m\u001b[1;32m      3\u001b[0m         \u001b[0;32mfor\u001b[0m \u001b[0mline\u001b[0m \u001b[0;32min\u001b[0m \u001b[0mfile\u001b[0m\u001b[0;34m:\u001b[0m\u001b[0;34m\u001b[0m\u001b[0;34m\u001b[0m\u001b[0m\n\u001b[1;32m      4\u001b[0m             \u001b[0;32myield\u001b[0m \u001b[0mline\u001b[0m\u001b[0;34m.\u001b[0m\u001b[0mstrip\u001b[0m\u001b[0;34m(\u001b[0m\u001b[0;34m)\u001b[0m\u001b[0;34m\u001b[0m\u001b[0;34m\u001b[0m\u001b[0m\n\u001b[1;32m      5\u001b[0m \u001b[0;34m\u001b[0m\u001b[0m\n",
            "\u001b[0;31mFileNotFoundError\u001b[0m: [Errno 2] No such file or directory: 'test.txt'"
          ]
        }
      ]
    },
    {
      "cell_type": "markdown",
      "source": [
        "##8. Use a lambda function in Python to sort a list of tuples based on the second element of each tuple."
      ],
      "metadata": {
        "id": "AcCRAJpbDQZy"
      }
    },
    {
      "cell_type": "code",
      "source": [
        "def sort_tuples(tuples):\n",
        "    return sorted(tuples, key=lambda x: x[1])\n",
        "\n",
        "sort_tuples([(1, 3), (2, 1), (3, 2)])"
      ],
      "metadata": {
        "colab": {
          "base_uri": "https://localhost:8080/"
        },
        "id": "59TTFDdWC_Em",
        "outputId": "3b69d52c-7cca-4225-f087-26fe9540622b"
      },
      "execution_count": 22,
      "outputs": [
        {
          "output_type": "execute_result",
          "data": {
            "text/plain": [
              "[(2, 1), (3, 2), (1, 3)]"
            ]
          },
          "metadata": {},
          "execution_count": 22
        }
      ]
    },
    {
      "cell_type": "markdown",
      "source": [
        "##9. Write a Python program that uses 'map' to convert a list of temperatures from celcius to fahrenheit."
      ],
      "metadata": {
        "id": "4n4lbfXYEG87"
      }
    },
    {
      "cell_type": "code",
      "source": [
        "places = [('Delhi',32),(\"Mumbai\",12),(\"Patna\",44), (\"Kashmir\",29)]\n",
        "\n",
        "newplaces = list(map(lambda c: (c[0],  (9/5) * c[1]+ 32), places))\n",
        "print(newplaces)\n"
      ],
      "metadata": {
        "colab": {
          "base_uri": "https://localhost:8080/"
        },
        "id": "aYLRkv9zEULh",
        "outputId": "9896c969-f8c0-4a80-8c4a-602faec9bbd5"
      },
      "execution_count": 24,
      "outputs": [
        {
          "output_type": "stream",
          "name": "stdout",
          "text": [
            "[('Delhi', 89.6), ('Mumbai', 53.6), ('Patna', 111.2), ('Kashmir', 84.2)]\n"
          ]
        }
      ]
    },
    {
      "cell_type": "markdown",
      "source": [
        "#10. Create a Python program that uses 'filter()' to remove all the vowels from a string."
      ],
      "metadata": {
        "id": "Gz7qmbGsFG4q"
      }
    },
    {
      "cell_type": "code",
      "source": [
        "def remove_vowels(input_string):\n",
        "    vowels = \"aeiouAEIOU\"\n",
        "    result = filter(lambda x: x not in vowels, input_string)\n",
        "    return ''.join(result)\n",
        "\n",
        "filtered_string = remove_vowels(\"Hello, World!\")\n",
        "print(filtered_string)\n"
      ],
      "metadata": {
        "colab": {
          "base_uri": "https://localhost:8080/"
        },
        "id": "QWDif1T2C8fZ",
        "outputId": "24c027a2-9b51-4e80-9196-7d8ba967849b"
      },
      "execution_count": 43,
      "outputs": [
        {
          "output_type": "stream",
          "name": "stdout",
          "text": [
            "Hll, Wrld!\n"
          ]
        }
      ]
    },
    {
      "cell_type": "markdown",
      "source": [
        "##11. Write a Python program, which returns a list with 2-tuples. Each tuple consists of the order number and the product of the price per item and the quantity. The product should be increased by 10,- € if the value of the order is smaller than 100,00 €.\n",
        "\n",
        "\n"
      ],
      "metadata": {
        "id": "zlnTxrj0OrxA"
      }
    },
    {
      "cell_type": "code",
      "source": [
        "\n",
        "# Define the list of orders\n",
        "orders = [\n",
        "    [34587, 'Learning Python', 'Mark Lutz', 4, 40.95],\n",
        "    [98762, 'Programming Python', 'Mark Lutz', 5, 56.80],\n",
        "    [77226, 'Head First Python', 'Paul Barry', 3, 32.95],\n",
        "    [88112, 'Einführung in Python3', 'Bernd Klein', 3, 24.99]\n",
        "]\n",
        "\n",
        "# Define a function to calculate total cost; add €10 if total cost is less than €100\n",
        "def calculate_total_cost(quantity_price):\n",
        "    quantity, price_per_item = quantity_price[3], quantity_price[4]\n",
        "    total_cost = quantity * price_per_item\n",
        "    return total_cost + 10 if total_cost < 100 else total_cost\n",
        "\n",
        "# Use map() with lambda to apply calculate_total_cost function to each sublist\n",
        "result_list = list(map(lambda x: (x[0], calculate_total_cost(x)), orders))\n",
        "\n",
        "print(result_list)\n"
      ],
      "metadata": {
        "colab": {
          "base_uri": "https://localhost:8080/"
        },
        "id": "KBX6-thMQtum",
        "outputId": "880ff323-275b-4fd8-d761-522e9831180d"
      },
      "execution_count": 45,
      "outputs": [
        {
          "output_type": "stream",
          "name": "stdout",
          "text": [
            "[(34587, 163.8), (98762, 284.0), (77226, 108.85000000000001), (88112, 84.97)]\n"
          ]
        }
      ]
    }
  ]
}